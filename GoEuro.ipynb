{
 "cells": [
  {
   "cell_type": "code",
   "execution_count": 1,
   "metadata": {},
   "outputs": [],
   "source": [
    "import psycopg2 as pg2\n",
    "import pandas as pd\n",
    "conn = pg2.connect(\"dbname=postgres user=goeuro password=ecdKIeqx7692 host=35.197.223.45\")"
   ]
  },
  {
   "cell_type": "code",
   "execution_count": 2,
   "metadata": {},
   "outputs": [],
   "source": [
    "cur=conn.cursor()"
   ]
  },
  {
   "cell_type": "markdown",
   "metadata": {
    "collapsed": true
   },
   "source": [
    "## MAIN STEPS OF OUR PRODUCT FUNNEL: \n",
    "\n",
    "* Sessions: Visits to the website\n",
    "* Searches: Searches made on GoEuro\n",
    "* Clickout: Click journey event, user redirected to booking\n",
    "* Bookings: Payment stage, leading to a booking confirmation\n"
   ]
  },
  {
   "cell_type": "markdown",
   "metadata": {
    "collapsed": true
   },
   "source": [
    "## OVERALL VALUES FOR VARIOUS STEPS IN OUR FUNNEL"
   ]
  },
  {
   "cell_type": "markdown",
   "metadata": {},
   "source": [
    "### SESSIONS-STEP"
   ]
  },
  {
   "cell_type": "code",
   "execution_count": 3,
   "metadata": {},
   "outputs": [],
   "source": [
    "df_sessions = pd.read_sql_query(\"SELECT * FROM sessions \", conn)"
   ]
  },
  {
   "cell_type": "code",
   "execution_count": 4,
   "metadata": {},
   "outputs": [
    {
     "data": {
      "text/plain": [
       "(118158, 6)"
      ]
     },
     "execution_count": 4,
     "metadata": {},
     "output_type": "execute_result"
    }
   ],
   "source": [
    "df_sessions.shape"
   ]
  },
  {
   "cell_type": "code",
   "execution_count": 5,
   "metadata": {},
   "outputs": [
    {
     "data": {
      "text/html": [
       "<div>\n",
       "<style scoped>\n",
       "    .dataframe tbody tr th:only-of-type {\n",
       "        vertical-align: middle;\n",
       "    }\n",
       "\n",
       "    .dataframe tbody tr th {\n",
       "        vertical-align: top;\n",
       "    }\n",
       "\n",
       "    .dataframe thead th {\n",
       "        text-align: right;\n",
       "    }\n",
       "</style>\n",
       "<table border=\"1\" class=\"dataframe\">\n",
       "  <thead>\n",
       "    <tr style=\"text-align: right;\">\n",
       "      <th></th>\n",
       "      <th>count</th>\n",
       "    </tr>\n",
       "  </thead>\n",
       "  <tbody>\n",
       "    <tr>\n",
       "      <th>0</th>\n",
       "      <td>118158</td>\n",
       "    </tr>\n",
       "  </tbody>\n",
       "</table>\n",
       "</div>"
      ],
      "text/plain": [
       "    count\n",
       "0  118158"
      ]
     },
     "execution_count": 5,
     "metadata": {},
     "output_type": "execute_result"
    }
   ],
   "source": [
    "pd.read_sql_query(\"SELECT COUNT (*) FROM (SELECT DISTINCT date_, device_type, domain_, user_country, channel FROM sessions) a\", conn)"
   ]
  },
  {
   "cell_type": "markdown",
   "metadata": {},
   "source": [
    "* This query is indicative of the fact that all rows in the 'Sessions' table represent a unique combination of date_,device_type, domain_, user_country & channel.\n",
    "\n",
    "\n",
    "* There are a total of 118,158 combinations of date_,device_type, domain_, user_country & channel that have led to session events\n",
    "\n",
    "\n",
    "* Now we can run an aggregate function (SUM) on the sessions column  to obtain the total number of sessions in our first step of product funnel"
   ]
  },
  {
   "cell_type": "code",
   "execution_count": 6,
   "metadata": {},
   "outputs": [
    {
     "data": {
      "text/html": [
       "<div>\n",
       "<style scoped>\n",
       "    .dataframe tbody tr th:only-of-type {\n",
       "        vertical-align: middle;\n",
       "    }\n",
       "\n",
       "    .dataframe tbody tr th {\n",
       "        vertical-align: top;\n",
       "    }\n",
       "\n",
       "    .dataframe thead th {\n",
       "        text-align: right;\n",
       "    }\n",
       "</style>\n",
       "<table border=\"1\" class=\"dataframe\">\n",
       "  <thead>\n",
       "    <tr style=\"text-align: right;\">\n",
       "      <th></th>\n",
       "      <th>sum</th>\n",
       "    </tr>\n",
       "  </thead>\n",
       "  <tbody>\n",
       "    <tr>\n",
       "      <th>0</th>\n",
       "      <td>1.930793e+09</td>\n",
       "    </tr>\n",
       "  </tbody>\n",
       "</table>\n",
       "</div>"
      ],
      "text/plain": [
       "            sum\n",
       "0  1.930793e+09"
      ]
     },
     "execution_count": 6,
     "metadata": {},
     "output_type": "execute_result"
    }
   ],
   "source": [
    "pd.read_sql_query(\"SELECT SUM(sessions) FROM sessions \", conn)"
   ]
  },
  {
   "cell_type": "markdown",
   "metadata": {},
   "source": [
    "* **Key Finding:** \"1,930,793,424\" sessions were created --> This is the total value for the first step of our product funnel. "
   ]
  },
  {
   "cell_type": "markdown",
   "metadata": {},
   "source": [
    "### SEARCHES-STEP"
   ]
  },
  {
   "cell_type": "code",
   "execution_count": 7,
   "metadata": {},
   "outputs": [],
   "source": [
    "df_searches = pd.read_sql_query(\"SELECT * FROM searches \", conn)"
   ]
  },
  {
   "cell_type": "code",
   "execution_count": 8,
   "metadata": {},
   "outputs": [
    {
     "data": {
      "text/plain": [
       "(109460, 6)"
      ]
     },
     "execution_count": 8,
     "metadata": {},
     "output_type": "execute_result"
    }
   ],
   "source": [
    "df_searches.shape"
   ]
  },
  {
   "cell_type": "code",
   "execution_count": 9,
   "metadata": {},
   "outputs": [
    {
     "data": {
      "text/html": [
       "<div>\n",
       "<style scoped>\n",
       "    .dataframe tbody tr th:only-of-type {\n",
       "        vertical-align: middle;\n",
       "    }\n",
       "\n",
       "    .dataframe tbody tr th {\n",
       "        vertical-align: top;\n",
       "    }\n",
       "\n",
       "    .dataframe thead th {\n",
       "        text-align: right;\n",
       "    }\n",
       "</style>\n",
       "<table border=\"1\" class=\"dataframe\">\n",
       "  <thead>\n",
       "    <tr style=\"text-align: right;\">\n",
       "      <th></th>\n",
       "      <th>count</th>\n",
       "    </tr>\n",
       "  </thead>\n",
       "  <tbody>\n",
       "    <tr>\n",
       "      <th>0</th>\n",
       "      <td>109460</td>\n",
       "    </tr>\n",
       "  </tbody>\n",
       "</table>\n",
       "</div>"
      ],
      "text/plain": [
       "    count\n",
       "0  109460"
      ]
     },
     "execution_count": 9,
     "metadata": {},
     "output_type": "execute_result"
    }
   ],
   "source": [
    "pd.read_sql_query(\"SELECT COUNT (*) FROM (SELECT DISTINCT date_, device_type, domain_, user_country, channel FROM searches) a\", conn)"
   ]
  },
  {
   "cell_type": "code",
   "execution_count": 10,
   "metadata": {},
   "outputs": [
    {
     "data": {
      "text/html": [
       "<div>\n",
       "<style scoped>\n",
       "    .dataframe tbody tr th:only-of-type {\n",
       "        vertical-align: middle;\n",
       "    }\n",
       "\n",
       "    .dataframe tbody tr th {\n",
       "        vertical-align: top;\n",
       "    }\n",
       "\n",
       "    .dataframe thead th {\n",
       "        text-align: right;\n",
       "    }\n",
       "</style>\n",
       "<table border=\"1\" class=\"dataframe\">\n",
       "  <thead>\n",
       "    <tr style=\"text-align: right;\">\n",
       "      <th></th>\n",
       "      <th>sum</th>\n",
       "    </tr>\n",
       "  </thead>\n",
       "  <tbody>\n",
       "    <tr>\n",
       "      <th>0</th>\n",
       "      <td>2.781660e+09</td>\n",
       "    </tr>\n",
       "  </tbody>\n",
       "</table>\n",
       "</div>"
      ],
      "text/plain": [
       "            sum\n",
       "0  2.781660e+09"
      ]
     },
     "execution_count": 10,
     "metadata": {},
     "output_type": "execute_result"
    }
   ],
   "source": [
    "pd.read_sql_query(\"SELECT SUM(searches) FROM searches \", conn)"
   ]
  },
  {
   "cell_type": "markdown",
   "metadata": {},
   "source": [
    "#### **KEY FINDINGS:**\n",
    " \n",
    "* \"2,781,660,497\" searches were performed in total \n",
    "\n",
    "\n",
    "* The number of searches exceed the total number of sessions, this makes sense as there isnt a one-to-one relationship between the users and searches *(As a single user might perform multiple searches and some might not perform any)*\n",
    "\n",
    "\n",
    "* To better explore this step of the funnel we will be looking at what combinations of date_, devicetype, domain, user_country & channel did result in searches and which ones didn't. "
   ]
  },
  {
   "cell_type": "code",
   "execution_count": 11,
   "metadata": {},
   "outputs": [
    {
     "data": {
      "text/html": [
       "<div>\n",
       "<style scoped>\n",
       "    .dataframe tbody tr th:only-of-type {\n",
       "        vertical-align: middle;\n",
       "    }\n",
       "\n",
       "    .dataframe tbody tr th {\n",
       "        vertical-align: top;\n",
       "    }\n",
       "\n",
       "    .dataframe thead th {\n",
       "        text-align: right;\n",
       "    }\n",
       "</style>\n",
       "<table border=\"1\" class=\"dataframe\">\n",
       "  <thead>\n",
       "    <tr style=\"text-align: right;\">\n",
       "      <th></th>\n",
       "      <th>count</th>\n",
       "    </tr>\n",
       "  </thead>\n",
       "  <tbody>\n",
       "    <tr>\n",
       "      <th>0</th>\n",
       "      <td>107363</td>\n",
       "    </tr>\n",
       "  </tbody>\n",
       "</table>\n",
       "</div>"
      ],
      "text/plain": [
       "    count\n",
       "0  107363"
      ]
     },
     "execution_count": 11,
     "metadata": {},
     "output_type": "execute_result"
    }
   ],
   "source": [
    "pd.read_sql_query(\"SELECT COUNT (*) FROM (SELECT sessions.date_, sessions.device_type, sessions.domain_, sessions.user_country, sessions.channel FROM sessions INTERSECT  SELECT searches.date_, searches.device_type, searches.domain_, searches.user_country, searches.channel FROM searches) a\", conn)"
   ]
  },
  {
   "cell_type": "code",
   "execution_count": 12,
   "metadata": {},
   "outputs": [
    {
     "data": {
      "text/html": [
       "<div>\n",
       "<style scoped>\n",
       "    .dataframe tbody tr th:only-of-type {\n",
       "        vertical-align: middle;\n",
       "    }\n",
       "\n",
       "    .dataframe tbody tr th {\n",
       "        vertical-align: top;\n",
       "    }\n",
       "\n",
       "    .dataframe thead th {\n",
       "        text-align: right;\n",
       "    }\n",
       "</style>\n",
       "<table border=\"1\" class=\"dataframe\">\n",
       "  <thead>\n",
       "    <tr style=\"text-align: right;\">\n",
       "      <th></th>\n",
       "      <th>sum</th>\n",
       "    </tr>\n",
       "  </thead>\n",
       "  <tbody>\n",
       "    <tr>\n",
       "      <th>0</th>\n",
       "      <td>2.767929e+09</td>\n",
       "    </tr>\n",
       "  </tbody>\n",
       "</table>\n",
       "</div>"
      ],
      "text/plain": [
       "            sum\n",
       "0  2.767929e+09"
      ]
     },
     "execution_count": 12,
     "metadata": {},
     "output_type": "execute_result"
    }
   ],
   "source": [
    "pd.read_sql_query(\"SELECT SUM(searches) FROM(SELECT searches.date_, searches.device_type, searches.domain_, searches.user_country, searches.channel, searches.searches FROM searches INNER JOIN sessions ON searches.date_ = sessions.date_  AND searches.device_type =sessions.device_type AND searches.domain_=sessions.domain_  AND searches.user_country=sessions.user_country  AND searches.channel=sessions.channel) a \", conn)"
   ]
  },
  {
   "cell_type": "markdown",
   "metadata": {},
   "source": [
    "#### **KEY FINDINGS:**\n",
    "* \"107363\" combinations of date_, devicetype, domain, user_country & channel that existed in the sessions table did result in searches as evident from the query above \n",
    "* (109460 - 107363) = \"2097\" combinations  were unique to this table.\n",
    "* \"2,767,929,006\" searches were a result of followup from sessions \n",
    "* \"13,731,491\" searches were not followups from sessions"
   ]
  },
  {
   "cell_type": "markdown",
   "metadata": {},
   "source": [
    "### CLICKOUT-STEP"
   ]
  },
  {
   "cell_type": "code",
   "execution_count": 13,
   "metadata": {},
   "outputs": [],
   "source": [
    "df_clickouts = pd.read_sql_query(\"SELECT * FROM clickouts \", conn)"
   ]
  },
  {
   "cell_type": "code",
   "execution_count": 14,
   "metadata": {},
   "outputs": [
    {
     "data": {
      "text/plain": [
       "(176696, 7)"
      ]
     },
     "execution_count": 14,
     "metadata": {},
     "output_type": "execute_result"
    }
   ],
   "source": [
    "df_clickouts.shape"
   ]
  },
  {
   "cell_type": "code",
   "execution_count": 15,
   "metadata": {},
   "outputs": [
    {
     "data": {
      "text/html": [
       "<div>\n",
       "<style scoped>\n",
       "    .dataframe tbody tr th:only-of-type {\n",
       "        vertical-align: middle;\n",
       "    }\n",
       "\n",
       "    .dataframe tbody tr th {\n",
       "        vertical-align: top;\n",
       "    }\n",
       "\n",
       "    .dataframe thead th {\n",
       "        text-align: right;\n",
       "    }\n",
       "</style>\n",
       "<table border=\"1\" class=\"dataframe\">\n",
       "  <thead>\n",
       "    <tr style=\"text-align: right;\">\n",
       "      <th></th>\n",
       "      <th>count</th>\n",
       "    </tr>\n",
       "  </thead>\n",
       "  <tbody>\n",
       "    <tr>\n",
       "      <th>0</th>\n",
       "      <td>176696</td>\n",
       "    </tr>\n",
       "  </tbody>\n",
       "</table>\n",
       "</div>"
      ],
      "text/plain": [
       "    count\n",
       "0  176696"
      ]
     },
     "execution_count": 15,
     "metadata": {},
     "output_type": "execute_result"
    }
   ],
   "source": [
    "pd.read_sql_query(\"SELECT COUNT (*) FROM (SELECT DISTINCT date_, device_type, domain_, user_country, channel, provider_id FROM clickouts) a\", conn)"
   ]
  },
  {
   "cell_type": "code",
   "execution_count": 16,
   "metadata": {},
   "outputs": [
    {
     "data": {
      "text/html": [
       "<div>\n",
       "<style scoped>\n",
       "    .dataframe tbody tr th:only-of-type {\n",
       "        vertical-align: middle;\n",
       "    }\n",
       "\n",
       "    .dataframe tbody tr th {\n",
       "        vertical-align: top;\n",
       "    }\n",
       "\n",
       "    .dataframe thead th {\n",
       "        text-align: right;\n",
       "    }\n",
       "</style>\n",
       "<table border=\"1\" class=\"dataframe\">\n",
       "  <thead>\n",
       "    <tr style=\"text-align: right;\">\n",
       "      <th></th>\n",
       "      <th>sum</th>\n",
       "    </tr>\n",
       "  </thead>\n",
       "  <tbody>\n",
       "    <tr>\n",
       "      <th>0</th>\n",
       "      <td>607926000.0</td>\n",
       "    </tr>\n",
       "  </tbody>\n",
       "</table>\n",
       "</div>"
      ],
      "text/plain": [
       "           sum\n",
       "0  607926000.0"
      ]
     },
     "execution_count": 16,
     "metadata": {},
     "output_type": "execute_result"
    }
   ],
   "source": [
    "pd.read_sql_query(\"SELECT SUM(clickouts) FROM clickouts \", conn)"
   ]
  },
  {
   "cell_type": "code",
   "execution_count": 17,
   "metadata": {},
   "outputs": [
    {
     "data": {
      "text/html": [
       "<div>\n",
       "<style scoped>\n",
       "    .dataframe tbody tr th:only-of-type {\n",
       "        vertical-align: middle;\n",
       "    }\n",
       "\n",
       "    .dataframe tbody tr th {\n",
       "        vertical-align: top;\n",
       "    }\n",
       "\n",
       "    .dataframe thead th {\n",
       "        text-align: right;\n",
       "    }\n",
       "</style>\n",
       "<table border=\"1\" class=\"dataframe\">\n",
       "  <thead>\n",
       "    <tr style=\"text-align: right;\">\n",
       "      <th></th>\n",
       "      <th>count</th>\n",
       "    </tr>\n",
       "  </thead>\n",
       "  <tbody>\n",
       "    <tr>\n",
       "      <th>0</th>\n",
       "      <td>176681</td>\n",
       "    </tr>\n",
       "  </tbody>\n",
       "</table>\n",
       "</div>"
      ],
      "text/plain": [
       "    count\n",
       "0  176681"
      ]
     },
     "execution_count": 17,
     "metadata": {},
     "output_type": "execute_result"
    }
   ],
   "source": [
    "pd.read_sql_query(\"SELECT COUNT (*) FROM (SELECT s.date_, s.device_type, s.domain_, s.user_country, s.channel, cl.provider_id FROM searches as s RIGHT JOIN clickouts as cl ON  s.date_ = cl.date_ AND s.device_type = cl.device_type AND s.domain_ = cl.domain_ AND s.user_country = cl.user_country AND s.channel=cl.channel WHERE s.date_ IS NOT null  AND s.device_type IS NOT null AND s.domain_ IS NOT null AND s.user_country IS NOT null AND s.channel IS NOT null AND cl.provider_id IS NOT null) a\", conn)"
   ]
  },
  {
   "cell_type": "code",
   "execution_count": 18,
   "metadata": {},
   "outputs": [
    {
     "data": {
      "text/html": [
       "<div>\n",
       "<style scoped>\n",
       "    .dataframe tbody tr th:only-of-type {\n",
       "        vertical-align: middle;\n",
       "    }\n",
       "\n",
       "    .dataframe tbody tr th {\n",
       "        vertical-align: top;\n",
       "    }\n",
       "\n",
       "    .dataframe thead th {\n",
       "        text-align: right;\n",
       "    }\n",
       "</style>\n",
       "<table border=\"1\" class=\"dataframe\">\n",
       "  <thead>\n",
       "    <tr style=\"text-align: right;\">\n",
       "      <th></th>\n",
       "      <th>sum</th>\n",
       "    </tr>\n",
       "  </thead>\n",
       "  <tbody>\n",
       "    <tr>\n",
       "      <th>0</th>\n",
       "      <td>607922000.0</td>\n",
       "    </tr>\n",
       "  </tbody>\n",
       "</table>\n",
       "</div>"
      ],
      "text/plain": [
       "           sum\n",
       "0  607922000.0"
      ]
     },
     "execution_count": 18,
     "metadata": {},
     "output_type": "execute_result"
    }
   ],
   "source": [
    "pd.read_sql_query(\"SELECT SUM (clickouts) FROM (SELECT s.date_, s.device_type, s.domain_, s.user_country, s.channel, cl.provider_id, cl.clickouts FROM searches as s RIGHT JOIN clickouts as cl ON  s.date_ = cl.date_ AND s.device_type = cl.device_type AND s.domain_ = cl.domain_ AND s.user_country = cl.user_country AND s.channel=cl.channel WHERE s.date_ IS NOT null  AND s.device_type IS NOT null AND s.domain_ IS NOT null AND s.user_country IS NOT null AND s.channel IS NOT null AND cl.provider_id IS NOT null) a\", conn)"
   ]
  },
  {
   "cell_type": "markdown",
   "metadata": {},
   "source": [
    "#### KEY FINDINGS: "
   ]
  },
  {
   "cell_type": "markdown",
   "metadata": {},
   "source": [
    "* There were a total of \"607,926,000\" clickouts\n",
    "* \"607,922,000\" clickouts were directly off of search results from the previous step in the funnel"
   ]
  },
  {
   "cell_type": "markdown",
   "metadata": {},
   "source": [
    "### BOOKINGS-STEP"
   ]
  },
  {
   "cell_type": "code",
   "execution_count": 19,
   "metadata": {},
   "outputs": [],
   "source": [
    "df_bookings= pd.read_sql_query(\"SELECT * FROM bookings \", conn)"
   ]
  },
  {
   "cell_type": "code",
   "execution_count": 20,
   "metadata": {},
   "outputs": [
    {
     "data": {
      "text/plain": [
       "(92908, 7)"
      ]
     },
     "execution_count": 20,
     "metadata": {},
     "output_type": "execute_result"
    }
   ],
   "source": [
    "df_bookings.shape"
   ]
  },
  {
   "cell_type": "code",
   "execution_count": 21,
   "metadata": {},
   "outputs": [
    {
     "data": {
      "text/html": [
       "<div>\n",
       "<style scoped>\n",
       "    .dataframe tbody tr th:only-of-type {\n",
       "        vertical-align: middle;\n",
       "    }\n",
       "\n",
       "    .dataframe tbody tr th {\n",
       "        vertical-align: top;\n",
       "    }\n",
       "\n",
       "    .dataframe thead th {\n",
       "        text-align: right;\n",
       "    }\n",
       "</style>\n",
       "<table border=\"1\" class=\"dataframe\">\n",
       "  <thead>\n",
       "    <tr style=\"text-align: right;\">\n",
       "      <th></th>\n",
       "      <th>count</th>\n",
       "    </tr>\n",
       "  </thead>\n",
       "  <tbody>\n",
       "    <tr>\n",
       "      <th>0</th>\n",
       "      <td>92908</td>\n",
       "    </tr>\n",
       "  </tbody>\n",
       "</table>\n",
       "</div>"
      ],
      "text/plain": [
       "   count\n",
       "0  92908"
      ]
     },
     "execution_count": 21,
     "metadata": {},
     "output_type": "execute_result"
    }
   ],
   "source": [
    "pd.read_sql_query(\"SELECT COUNT (*) FROM (SELECT DISTINCT date_, device_type, domain_, user_country, channel, provider_id FROM bookings) a\", conn)"
   ]
  },
  {
   "cell_type": "code",
   "execution_count": 25,
   "metadata": {},
   "outputs": [
    {
     "data": {
      "text/html": [
       "<div>\n",
       "<style scoped>\n",
       "    .dataframe tbody tr th:only-of-type {\n",
       "        vertical-align: middle;\n",
       "    }\n",
       "\n",
       "    .dataframe tbody tr th {\n",
       "        vertical-align: top;\n",
       "    }\n",
       "\n",
       "    .dataframe thead th {\n",
       "        text-align: right;\n",
       "    }\n",
       "</style>\n",
       "<table border=\"1\" class=\"dataframe\">\n",
       "  <thead>\n",
       "    <tr style=\"text-align: right;\">\n",
       "      <th></th>\n",
       "      <th>sum</th>\n",
       "    </tr>\n",
       "  </thead>\n",
       "  <tbody>\n",
       "    <tr>\n",
       "      <th>0</th>\n",
       "      <td>133755360.0</td>\n",
       "    </tr>\n",
       "  </tbody>\n",
       "</table>\n",
       "</div>"
      ],
      "text/plain": [
       "           sum\n",
       "0  133755360.0"
      ]
     },
     "execution_count": 25,
     "metadata": {},
     "output_type": "execute_result"
    }
   ],
   "source": [
    "pd.read_sql_query(\"SELECT SUM(bookings) FROM bookings\", conn)"
   ]
  },
  {
   "cell_type": "code",
   "execution_count": 23,
   "metadata": {},
   "outputs": [
    {
     "data": {
      "text/html": [
       "<div>\n",
       "<style scoped>\n",
       "    .dataframe tbody tr th:only-of-type {\n",
       "        vertical-align: middle;\n",
       "    }\n",
       "\n",
       "    .dataframe tbody tr th {\n",
       "        vertical-align: top;\n",
       "    }\n",
       "\n",
       "    .dataframe thead th {\n",
       "        text-align: right;\n",
       "    }\n",
       "</style>\n",
       "<table border=\"1\" class=\"dataframe\">\n",
       "  <thead>\n",
       "    <tr style=\"text-align: right;\">\n",
       "      <th></th>\n",
       "      <th>sum</th>\n",
       "    </tr>\n",
       "  </thead>\n",
       "  <tbody>\n",
       "    <tr>\n",
       "      <th>0</th>\n",
       "      <td>133655355.0</td>\n",
       "    </tr>\n",
       "  </tbody>\n",
       "</table>\n",
       "</div>"
      ],
      "text/plain": [
       "           sum\n",
       "0  133655355.0"
      ]
     },
     "execution_count": 23,
     "metadata": {},
     "output_type": "execute_result"
    }
   ],
   "source": [
    "pd.read_sql_query( \"SELECT SUM (bookings) FROM (SELECT cl.date_, cl.device_type, cl.domain_, cl.user_country, cl.channel, cl.provider_id, bk.bookings FROM clickouts as cl RIGHT JOIN bookings as bk ON  cl.date_ = bk.date_ AND cl.device_type = bk.device_type AND cl.domain_ = bk.domain_ AND cl.user_country = bk.user_country AND cl.channel=bk.channel AND cl.provider_id = bk.provider_id  WHERE cl.date_ IS NOT null  AND cl.device_type IS NOT null AND cl.domain_ IS NOT null AND cl.user_country IS NOT null AND cl.channel IS NOT null AND bk.provider_id IS NOT null) a\", conn)"
   ]
  },
  {
   "cell_type": "markdown",
   "metadata": {},
   "source": [
    "### OVERALL CONVERSION RATIO"
   ]
  },
  {
   "cell_type": "markdown",
   "metadata": {},
   "source": [
    "* **(133755360/1,930,793,424)*100 = ~ \"6.927%\"**\n",
    "* **133755360 - 133655355 = \"100005\" bookings were not followup from clickouts**"
   ]
  },
  {
   "cell_type": "markdown",
   "metadata": {},
   "source": [
    "### SUMMARY OF PRODUCT FUNNEL "
   ]
  },
  {
   "cell_type": "markdown",
   "metadata": {},
   "source": [
    "* \"1,930,793,424\" Total Sessions\n",
    "* \"2,767,929,006\" Total Searches \n",
    "* \"607,926,000\"  Total Clickouts, \"607,922,000\" clickouts were directly off of search results from previous step\n",
    "* \"133755360\" Total Bookings, responsible for a ~6.927% overall conversion ratio ((133755360/1,930,793,424) *100 = ~6.927% )\n",
    "* \"100005\" bookings were not followup from clickouts\n"
   ]
  },
  {
   "cell_type": "markdown",
   "metadata": {},
   "source": [
    "## DATA EXPLORATION"
   ]
  },
  {
   "cell_type": "markdown",
   "metadata": {},
   "source": [
    "### Sessions Exploration"
   ]
  },
  {
   "cell_type": "code",
   "execution_count": 27,
   "metadata": {},
   "outputs": [
    {
     "name": "stdout",
     "output_type": "stream",
     "text": [
      "<class 'pandas.core.frame.DataFrame'>\n",
      "RangeIndex: 118158 entries, 0 to 118157\n",
      "Data columns (total 6 columns):\n",
      "date_           118158 non-null datetime64[ns]\n",
      "device_type     118158 non-null object\n",
      "domain_         118158 non-null object\n",
      "user_country    118158 non-null object\n",
      "channel         118158 non-null object\n",
      "sessions        118158 non-null int64\n",
      "dtypes: datetime64[ns](1), int64(1), object(4)\n",
      "memory usage: 5.4+ MB\n"
     ]
    }
   ],
   "source": [
    "df_sessions.info()"
   ]
  },
  {
   "cell_type": "code",
   "execution_count": 29,
   "metadata": {},
   "outputs": [
    {
     "data": {
      "text/html": [
       "<div>\n",
       "<style scoped>\n",
       "    .dataframe tbody tr th:only-of-type {\n",
       "        vertical-align: middle;\n",
       "    }\n",
       "\n",
       "    .dataframe tbody tr th {\n",
       "        vertical-align: top;\n",
       "    }\n",
       "\n",
       "    .dataframe thead th {\n",
       "        text-align: right;\n",
       "    }\n",
       "</style>\n",
       "<table border=\"1\" class=\"dataframe\">\n",
       "  <thead>\n",
       "    <tr style=\"text-align: right;\">\n",
       "      <th></th>\n",
       "      <th>date_</th>\n",
       "      <th>device_type</th>\n",
       "      <th>domain_</th>\n",
       "      <th>user_country</th>\n",
       "      <th>channel</th>\n",
       "      <th>sessions</th>\n",
       "    </tr>\n",
       "  </thead>\n",
       "  <tbody>\n",
       "    <tr>\n",
       "      <th>0</th>\n",
       "      <td>2016-11-18</td>\n",
       "      <td>Mobile</td>\n",
       "      <td>goeuro-com</td>\n",
       "      <td>Italy</td>\n",
       "      <td>Direct</td>\n",
       "      <td>38850</td>\n",
       "    </tr>\n",
       "    <tr>\n",
       "      <th>1</th>\n",
       "      <td>2016-11-20</td>\n",
       "      <td>Computer</td>\n",
       "      <td>goeuro-it</td>\n",
       "      <td>Italy</td>\n",
       "      <td>Referral</td>\n",
       "      <td>8190</td>\n",
       "    </tr>\n",
       "    <tr>\n",
       "      <th>2</th>\n",
       "      <td>2016-11-18</td>\n",
       "      <td>Mobile</td>\n",
       "      <td>goeuro-es</td>\n",
       "      <td>United Kingdom</td>\n",
       "      <td>Remarketing</td>\n",
       "      <td>1470</td>\n",
       "    </tr>\n",
       "    <tr>\n",
       "      <th>3</th>\n",
       "      <td>2016-11-14</td>\n",
       "      <td>Computer</td>\n",
       "      <td>goeuro-co-uk</td>\n",
       "      <td>Germany</td>\n",
       "      <td>Organic Search</td>\n",
       "      <td>2352</td>\n",
       "    </tr>\n",
       "    <tr>\n",
       "      <th>4</th>\n",
       "      <td>2016-11-17</td>\n",
       "      <td>Computer</td>\n",
       "      <td>goeuro-it</td>\n",
       "      <td>Germany</td>\n",
       "      <td>Direct</td>\n",
       "      <td>546</td>\n",
       "    </tr>\n",
       "  </tbody>\n",
       "</table>\n",
       "</div>"
      ],
      "text/plain": [
       "       date_ device_type       domain_    user_country         channel  \\\n",
       "0 2016-11-18      Mobile    goeuro-com           Italy          Direct   \n",
       "1 2016-11-20    Computer     goeuro-it           Italy        Referral   \n",
       "2 2016-11-18      Mobile     goeuro-es  United Kingdom     Remarketing   \n",
       "3 2016-11-14    Computer  goeuro-co-uk         Germany  Organic Search   \n",
       "4 2016-11-17    Computer     goeuro-it         Germany          Direct   \n",
       "\n",
       "   sessions  \n",
       "0     38850  \n",
       "1      8190  \n",
       "2      1470  \n",
       "3      2352  \n",
       "4       546  "
      ]
     },
     "execution_count": 29,
     "metadata": {},
     "output_type": "execute_result"
    }
   ],
   "source": [
    "df_sessions.head()"
   ]
  },
  {
   "cell_type": "code",
   "execution_count": 31,
   "metadata": {},
   "outputs": [
    {
     "data": {
      "text/plain": [
       "Timestamp('2016-11-18 00:00:00')"
      ]
     },
     "execution_count": 31,
     "metadata": {},
     "output_type": "execute_result"
    }
   ],
   "source": [
    "df_sessions.iloc[0]['date_'] #First logged session-event"
   ]
  },
  {
   "cell_type": "code",
   "execution_count": 33,
   "metadata": {},
   "outputs": [
    {
     "data": {
      "text/plain": [
       "Timestamp('2017-06-11 00:00:00')"
      ]
     },
     "execution_count": 33,
     "metadata": {},
     "output_type": "execute_result"
    }
   ],
   "source": [
    "df_sessions.iloc[-1]['date_'] #Last logged sesion-event"
   ]
  },
  {
   "cell_type": "code",
   "execution_count": 111,
   "metadata": {},
   "outputs": [
    {
     "data": {
      "text/plain": [
       "Timedelta('205 days 00:00:00')"
      ]
     },
     "execution_count": 111,
     "metadata": {},
     "output_type": "execute_result"
    }
   ],
   "source": [
    "df_sessions.iloc[-1]['date_'] - df_sessions.iloc[0]['date_'] #Total span of our events recorded"
   ]
  },
  {
   "cell_type": "code",
   "execution_count": 112,
   "metadata": {},
   "outputs": [
    {
     "data": {
      "text/plain": [
       "date_\n",
       "1     252019614\n",
       "2     263906202\n",
       "3     300058416\n",
       "4     283921428\n",
       "5     291523890\n",
       "6     132997242\n",
       "11    150355506\n",
       "12    256011126\n",
       "Name: sessions, dtype: int64"
      ]
     },
     "execution_count": 112,
     "metadata": {},
     "output_type": "execute_result"
    }
   ],
   "source": [
    "df_sessions.groupby(df_sessions['date_'].dt.month).sum()['sessions'] #Total sessions per month\n",
    " "
   ]
  },
  {
   "cell_type": "code",
   "execution_count": 123,
   "metadata": {},
   "outputs": [
    {
     "data": {
      "text/plain": [
       "count    8.000000e+00\n",
       "mean     2.413492e+08\n",
       "std      6.395793e+07\n",
       "min      1.329972e+08\n",
       "25%      2.266036e+08\n",
       "50%      2.599587e+08\n",
       "75%      2.858220e+08\n",
       "max      3.000584e+08\n",
       "Name: sessions, dtype: float64"
      ]
     },
     "execution_count": 123,
     "metadata": {},
     "output_type": "execute_result"
    }
   ],
   "source": [
    "df_sessions.groupby(df_sessions['date_'].dt.month).sum()['sessions'].describe() #Descriptive statistics about monthly sessions"
   ]
  },
  {
   "cell_type": "markdown",
   "metadata": {},
   "source": [
    "#### KEY FINDINGS\n",
    "* The month of November 2016, and June 2017 have significantly low sessions but it can be explained by the fact that we only have the data for the last 13 days of November, and first 11 days of the month of June"
   ]
  },
  {
   "cell_type": "code",
   "execution_count": 113,
   "metadata": {},
   "outputs": [
    {
     "data": {
      "text/plain": [
       "date_\n",
       "1     63928998\n",
       "2     67006716\n",
       "3     64164618\n",
       "4     64837878\n",
       "5     67982628\n",
       "6     65956002\n",
       "7     65061276\n",
       "8     64482894\n",
       "9     64320270\n",
       "10    63055776\n",
       "11    64221906\n",
       "12    69037584\n",
       "13    66276000\n",
       "14    61215840\n",
       "15    61945632\n",
       "16    61040406\n",
       "17    61433106\n",
       "18    60633258\n",
       "19    62944560\n",
       "20    64673952\n",
       "21    64256430\n",
       "22    64367478\n",
       "23    62977278\n",
       "24    59841894\n",
       "25    59343396\n",
       "26    63227766\n",
       "27    65229822\n",
       "28    63768516\n",
       "29    55190436\n",
       "30    54838434\n",
       "31    33532674\n",
       "Name: sessions, dtype: int64"
      ]
     },
     "execution_count": 113,
     "metadata": {},
     "output_type": "execute_result"
    }
   ],
   "source": [
    "df_sessions.groupby(df_sessions['date_'].dt.day).sum()['sessions'] #Total Sessions per day\n"
   ]
  },
  {
   "cell_type": "markdown",
   "metadata": {},
   "source": [
    "* The 31st day has the least overall sessions, which is consistent with the fact that not all the months  have 31 days."
   ]
  },
  {
   "cell_type": "code",
   "execution_count": 124,
   "metadata": {},
   "outputs": [
    {
     "data": {
      "text/plain": [
       "count    3.100000e+01\n",
       "mean     6.228366e+07\n",
       "std      6.173892e+06\n",
       "min      3.353267e+07\n",
       "25%      6.132447e+07\n",
       "50%      6.392900e+07\n",
       "75%      6.475592e+07\n",
       "max      6.903758e+07\n",
       "Name: sessions, dtype: float64"
      ]
     },
     "execution_count": 124,
     "metadata": {},
     "output_type": "execute_result"
    }
   ],
   "source": [
    "df_sessions.groupby(df_sessions['date_'].dt.day).sum()['sessions'].describe() #Descriptive statistics about daily sessions data"
   ]
  },
  {
   "cell_type": "code",
   "execution_count": 159,
   "metadata": {},
   "outputs": [
    {
     "data": {
      "text/plain": [
       "channel\n",
       "Affiliate           5943378\n",
       "Direct            114361254\n",
       "Email                671664\n",
       "Organic Search    612778446\n",
       "Other               3747366\n",
       "Paid Search       986775552\n",
       "Referral           87248280\n",
       "Remarketing       110908644\n",
       "Social Organic      5408508\n",
       "Social Paid         2950332\n",
       "Name: sessions, dtype: int64"
      ]
     },
     "execution_count": 159,
     "metadata": {},
     "output_type": "execute_result"
    }
   ],
   "source": [
    "pie_dist=df_sessions.groupby(df_sessions['channel']).sum()['sessions'] #Breakdown of sessions per channel\n",
    "pie_dist"
   ]
  },
  {
   "cell_type": "code",
   "execution_count": 203,
   "metadata": {},
   "outputs": [
    {
     "data": {
      "text/plain": [
       "<matplotlib.axes._subplots.AxesSubplot at 0x27b97a36e80>"
      ]
     },
     "execution_count": 203,
     "metadata": {},
     "output_type": "execute_result"
    },
    {
     "data": {
      "image/png": "[encoded data removed]",
      "text/plain": [
       "<Figure size 648x432 with 1 Axes>"
      ]
     },
     "metadata": {},
     "output_type": "display_data"
    }
   ],
   "source": [
    "import matplotlib.pyplot as plt\n",
    "pie_dist.plot.pie(fontsize=10, figsize=(9, 6), legend=True, labels=None)"
   ]
  },
  {
   "cell_type": "code",
   "execution_count": 169,
   "metadata": {},
   "outputs": [
    {
     "data": {
      "text/plain": [
       "device_type\n",
       "Computer     693193746\n",
       "Mobile      1099670250\n",
       "Tablet       137929428\n",
       "Name: sessions, dtype: int64"
      ]
     },
     "execution_count": 169,
     "metadata": {},
     "output_type": "execute_result"
    }
   ],
   "source": [
    "pie_dist_1=df_sessions.groupby(df_sessions['device_type']).sum()['sessions'] #Breakdown of sessions per device type\n",
    "pie_dist_1"
   ]
  },
  {
   "cell_type": "code",
   "execution_count": 170,
   "metadata": {},
   "outputs": [
    {
     "data": {
      "text/plain": [
       "<matplotlib.axes._subplots.AxesSubplot at 0x27b9788c470>"
      ]
     },
     "execution_count": 170,
     "metadata": {},
     "output_type": "execute_result"
    },
    {
     "data": {
      "image/png": "[encoded data removed]",
      "text/plain": [
       "<Figure size 432x288 with 1 Axes>"
      ]
     },
     "metadata": {},
     "output_type": "display_data"
    }
   ],
   "source": [
    "pie_dist_1.plot.pie()"
   ]
  },
  {
   "cell_type": "code",
   "execution_count": 171,
   "metadata": {},
   "outputs": [
    {
     "data": {
      "text/plain": [
       "domain_\n",
       "goeuro-co-uk    311504928\n",
       "goeuro-com      240069606\n",
       "goeuro-de       287992866\n",
       "goeuro-es       447307728\n",
       "goeuro-fr       216578250\n",
       "goeuro-it       427340046\n",
       "Name: sessions, dtype: int64"
      ]
     },
     "execution_count": 171,
     "metadata": {},
     "output_type": "execute_result"
    }
   ],
   "source": [
    "pie_dist_2=df_sessions.groupby(df_sessions['domain_']).sum()['sessions'] #Breakdown of sessions per domain\n",
    "pie_dist_2"
   ]
  },
  {
   "cell_type": "code",
   "execution_count": 172,
   "metadata": {},
   "outputs": [
    {
     "data": {
      "text/plain": [
       "<matplotlib.axes._subplots.AxesSubplot at 0x27b95ffccc0>"
      ]
     },
     "execution_count": 172,
     "metadata": {},
     "output_type": "execute_result"
    },
    {
     "data": {
      "image/png": "[encoded data removed]",
      "text/plain": [
       "<Figure size 432x288 with 1 Axes>"
      ]
     },
     "metadata": {},
     "output_type": "display_data"
    }
   ],
   "source": [
    "pie_dist_2.plot.pie()"
   ]
  },
  {
   "cell_type": "code",
   "execution_count": 173,
   "metadata": {},
   "outputs": [
    {
     "data": {
      "text/plain": [
       "user_country\n",
       "France            254661372\n",
       "Germany           372868776\n",
       "Italy             474079704\n",
       "Spain             474779130\n",
       "United Kingdom    354404442\n",
       "Name: sessions, dtype: int64"
      ]
     },
     "execution_count": 173,
     "metadata": {},
     "output_type": "execute_result"
    }
   ],
   "source": [
    "pie_dist_3=df_sessions.groupby(df_sessions['user_country']).sum()['sessions'] #Breakdown of sessions per country\n",
    "pie_dist_3"
   ]
  },
  {
   "cell_type": "code",
   "execution_count": 174,
   "metadata": {},
   "outputs": [
    {
     "data": {
      "text/plain": [
       "<matplotlib.axes._subplots.AxesSubplot at 0x27b978deac8>"
      ]
     },
     "execution_count": 174,
     "metadata": {},
     "output_type": "execute_result"
    },
    {
     "data": {
      "image/png": "[encoded data removed]",
      "text/plain": [
       "<Figure size 432x288 with 1 Axes>"
      ]
     },
     "metadata": {},
     "output_type": "display_data"
    }
   ],
   "source": [
    "pie_dist_3.plot.pie()"
   ]
  },
  {
   "cell_type": "code",
   "execution_count": 118,
   "metadata": {},
   "outputs": [],
   "source": [
    "import seaborn as sns\n",
    "import numpy as np\n",
    "%matplotlib inline \n",
    "import matplotlib.pyplot as plt "
   ]
  },
  {
   "cell_type": "markdown",
   "metadata": {},
   "source": [
    "### SEARCHES-EXPLORATION"
   ]
  },
  {
   "cell_type": "code",
   "execution_count": 125,
   "metadata": {},
   "outputs": [
    {
     "name": "stdout",
     "output_type": "stream",
     "text": [
      "<class 'pandas.core.frame.DataFrame'>\n",
      "RangeIndex: 109460 entries, 0 to 109459\n",
      "Data columns (total 6 columns):\n",
      "date_           109460 non-null datetime64[ns]\n",
      "device_type     109460 non-null object\n",
      "domain_         109460 non-null object\n",
      "user_country    109460 non-null object\n",
      "channel         109460 non-null object\n",
      "searches        109460 non-null int64\n",
      "dtypes: datetime64[ns](1), int64(1), object(4)\n",
      "memory usage: 5.0+ MB\n"
     ]
    }
   ],
   "source": [
    "df_searches.info()"
   ]
  },
  {
   "cell_type": "code",
   "execution_count": 126,
   "metadata": {},
   "outputs": [
    {
     "data": {
      "text/html": [
       "<div>\n",
       "<style scoped>\n",
       "    .dataframe tbody tr th:only-of-type {\n",
       "        vertical-align: middle;\n",
       "    }\n",
       "\n",
       "    .dataframe tbody tr th {\n",
       "        vertical-align: top;\n",
       "    }\n",
       "\n",
       "    .dataframe thead th {\n",
       "        text-align: right;\n",
       "    }\n",
       "</style>\n",
       "<table border=\"1\" class=\"dataframe\">\n",
       "  <thead>\n",
       "    <tr style=\"text-align: right;\">\n",
       "      <th></th>\n",
       "      <th>date_</th>\n",
       "      <th>device_type</th>\n",
       "      <th>domain_</th>\n",
       "      <th>user_country</th>\n",
       "      <th>channel</th>\n",
       "      <th>searches</th>\n",
       "    </tr>\n",
       "  </thead>\n",
       "  <tbody>\n",
       "    <tr>\n",
       "      <th>0</th>\n",
       "      <td>2017-01-06</td>\n",
       "      <td>Mobile</td>\n",
       "      <td>goeuro-it</td>\n",
       "      <td>Italy</td>\n",
       "      <td>Paid Search</td>\n",
       "      <td>679486</td>\n",
       "    </tr>\n",
       "    <tr>\n",
       "      <th>1</th>\n",
       "      <td>2017-01-09</td>\n",
       "      <td>Mobile</td>\n",
       "      <td>goeuro-es</td>\n",
       "      <td>France</td>\n",
       "      <td>Paid Search</td>\n",
       "      <td>21027</td>\n",
       "    </tr>\n",
       "    <tr>\n",
       "      <th>2</th>\n",
       "      <td>2017-01-12</td>\n",
       "      <td>Mobile</td>\n",
       "      <td>goeuro-com</td>\n",
       "      <td>Italy</td>\n",
       "      <td>Organic Search</td>\n",
       "      <td>24639</td>\n",
       "    </tr>\n",
       "    <tr>\n",
       "      <th>3</th>\n",
       "      <td>2017-01-17</td>\n",
       "      <td>Mobile</td>\n",
       "      <td>goeuro-it</td>\n",
       "      <td>Italy</td>\n",
       "      <td>Paid Search</td>\n",
       "      <td>701975</td>\n",
       "    </tr>\n",
       "    <tr>\n",
       "      <th>4</th>\n",
       "      <td>2017-01-11</td>\n",
       "      <td>Computer</td>\n",
       "      <td>goeuro-fr</td>\n",
       "      <td>France</td>\n",
       "      <td>Direct</td>\n",
       "      <td>12728</td>\n",
       "    </tr>\n",
       "  </tbody>\n",
       "</table>\n",
       "</div>"
      ],
      "text/plain": [
       "       date_ device_type     domain_ user_country         channel  searches\n",
       "0 2017-01-06      Mobile   goeuro-it        Italy     Paid Search    679486\n",
       "1 2017-01-09      Mobile   goeuro-es       France     Paid Search     21027\n",
       "2 2017-01-12      Mobile  goeuro-com        Italy  Organic Search     24639\n",
       "3 2017-01-17      Mobile   goeuro-it        Italy     Paid Search    701975\n",
       "4 2017-01-11    Computer   goeuro-fr       France          Direct     12728"
      ]
     },
     "execution_count": 126,
     "metadata": {},
     "output_type": "execute_result"
    }
   ],
   "source": [
    "df_searches.head()"
   ]
  },
  {
   "cell_type": "code",
   "execution_count": 128,
   "metadata": {},
   "outputs": [
    {
     "data": {
      "text/plain": [
       "Timestamp('2017-01-06 00:00:00')"
      ]
     },
     "execution_count": 128,
     "metadata": {},
     "output_type": "execute_result"
    }
   ],
   "source": [
    "df_searches.iloc[0]['date_'] #First logged search-event"
   ]
  },
  {
   "cell_type": "code",
   "execution_count": 129,
   "metadata": {},
   "outputs": [
    {
     "data": {
      "text/plain": [
       "Timestamp('2017-04-06 00:00:00')"
      ]
     },
     "execution_count": 129,
     "metadata": {},
     "output_type": "execute_result"
    }
   ],
   "source": [
    "df_searches.iloc[-1]['date_'] #Last logged search-event"
   ]
  },
  {
   "cell_type": "code",
   "execution_count": 131,
   "metadata": {},
   "outputs": [
    {
     "data": {
      "text/plain": [
       "date_\n",
       "1     330138434\n",
       "2     349252364\n",
       "3     443962014\n",
       "4     456355173\n",
       "5     455348973\n",
       "6     206989960\n",
       "11    189154635\n",
       "12    350458944\n",
       "Name: searches, dtype: int64"
      ]
     },
     "execution_count": 131,
     "metadata": {},
     "output_type": "execute_result"
    }
   ],
   "source": [
    "df_searches.groupby(df_searches['date_'].dt.month).sum()['searches'] #Total searches per month\n"
   ]
  },
  {
   "cell_type": "code",
   "execution_count": 132,
   "metadata": {},
   "outputs": [
    {
     "data": {
      "text/plain": [
       "count    8.000000e+00\n",
       "mean     3.477076e+08\n",
       "std      1.055022e+08\n",
       "min      1.891546e+08\n",
       "25%      2.993513e+08\n",
       "50%      3.498557e+08\n",
       "75%      4.468088e+08\n",
       "max      4.563552e+08\n",
       "Name: searches, dtype: float64"
      ]
     },
     "execution_count": 132,
     "metadata": {},
     "output_type": "execute_result"
    }
   ],
   "source": [
    "df_searches.groupby(df_searches['date_'].dt.month).sum()['searches'].describe() #Descriptive statistics about monthly searches"
   ]
  },
  {
   "cell_type": "code",
   "execution_count": 134,
   "metadata": {},
   "outputs": [
    {
     "data": {
      "text/plain": [
       "date_\n",
       "1      92396422\n",
       "2      97145643\n",
       "3      92288578\n",
       "4      93647464\n",
       "5      99955865\n",
       "6      98165603\n",
       "7      94927058\n",
       "8      93910366\n",
       "9      97828655\n",
       "10     94788770\n",
       "11     96667913\n",
       "12    100983522\n",
       "13     94884359\n",
       "14     86212162\n",
       "15     88173005\n",
       "16     87344696\n",
       "17     85890780\n",
       "18     84676073\n",
       "19     86549927\n",
       "20     88430188\n",
       "21     88679416\n",
       "22     92553673\n",
       "23     90406210\n",
       "24     87070872\n",
       "25     84882258\n",
       "26     90070251\n",
       "27     92948542\n",
       "28     92953057\n",
       "29     79477760\n",
       "30     79358048\n",
       "31     48393361\n",
       "Name: searches, dtype: int64"
      ]
     },
     "execution_count": 134,
     "metadata": {},
     "output_type": "execute_result"
    }
   ],
   "source": [
    "df_searches.groupby(df_searches['date_'].dt.day).sum()['searches'] #Total searches per day\n"
   ]
  },
  {
   "cell_type": "code",
   "execution_count": 135,
   "metadata": {},
   "outputs": [
    {
     "data": {
      "text/plain": [
       "count    3.100000e+01\n",
       "mean     8.973098e+07\n",
       "std      9.401552e+06\n",
       "min      4.839336e+07\n",
       "25%      8.681040e+07\n",
       "50%      9.228858e+07\n",
       "75%      9.483656e+07\n",
       "max      1.009835e+08\n",
       "Name: searches, dtype: float64"
      ]
     },
     "execution_count": 135,
     "metadata": {},
     "output_type": "execute_result"
    }
   ],
   "source": [
    "df_searches.groupby(df_searches['date_'].dt.day).sum()['searches'].describe() #Descriptive statistics about daily searches"
   ]
  },
  {
   "cell_type": "code",
   "execution_count": 175,
   "metadata": {},
   "outputs": [
    {
     "data": {
      "text/plain": [
       "channel\n",
       "Affiliate            6417492\n",
       "Direct             170295265\n",
       "Email                1283593\n",
       "Organic Search     866114686\n",
       "Other                1324572\n",
       "Paid Search       1449689315\n",
       "Referral           140764886\n",
       "Remarketing        127284386\n",
       "Social Organic       4361533\n",
       "Social Paid           417229\n",
       "direct               1976151\n",
       "internal              926908\n",
       "organic              5599245\n",
       "other                   2021\n",
       "referrer               17802\n",
       "sem                  5162924\n",
       "social                 22489\n",
       "Name: searches, dtype: int64"
      ]
     },
     "execution_count": 175,
     "metadata": {},
     "output_type": "execute_result"
    }
   ],
   "source": [
    "pie_dist_4=df_searches.groupby(df_searches['channel']).sum()['searches'] #Breakdown of searches per channel\n",
    "pie_dist_4"
   ]
  },
  {
   "cell_type": "code",
   "execution_count": 202,
   "metadata": {},
   "outputs": [
    {
     "data": {
      "image/png": "[encoded data removed]",
      "text/plain": [
       "<Figure size 648x432 with 1 Axes>"
      ]
     },
     "metadata": {},
     "output_type": "display_data"
    }
   ],
   "source": [
    "fig=pie_dist_4.plot.pie( fontsize=10, figsize=(9, 6), legend=True, labels=None)\n"
   ]
  },
  {
   "cell_type": "code",
   "execution_count": 207,
   "metadata": {},
   "outputs": [
    {
     "data": {
      "text/plain": [
       "device_type\n",
       "Computer    1278157714\n",
       "Mobile      1345547830\n",
       "Tablet       157954953\n",
       "Name: searches, dtype: int64"
      ]
     },
     "execution_count": 207,
     "metadata": {},
     "output_type": "execute_result"
    }
   ],
   "source": [
    "pie_dist_5=df_searches.groupby(df_searches['device_type']).sum()['searches'] #Breakdown of searches per device type\n",
    "pie_dist_5"
   ]
  },
  {
   "cell_type": "code",
   "execution_count": 208,
   "metadata": {},
   "outputs": [
    {
     "data": {
      "image/png": "[encoded data removed]",
      "text/plain": [
       "<Figure size 432x288 with 1 Axes>"
      ]
     },
     "metadata": {},
     "output_type": "display_data"
    }
   ],
   "source": [
    "fig=pie_dist_5.plot.pie()\n"
   ]
  },
  {
   "cell_type": "code",
   "execution_count": 209,
   "metadata": {},
   "outputs": [
    {
     "data": {
      "text/plain": [
       "domain_\n",
       "goeuro-co-uk    433322911\n",
       "goeuro-com      453496404\n",
       "goeuro-de       402310021\n",
       "goeuro-es       648170949\n",
       "goeuro-fr       300972824\n",
       "goeuro-it       543387388\n",
       "Name: searches, dtype: int64"
      ]
     },
     "execution_count": 209,
     "metadata": {},
     "output_type": "execute_result"
    }
   ],
   "source": [
    "pie_dist_6=df_searches.groupby(df_searches['domain_']).sum()['searches'] #Breakdown of searches per domain\n",
    "pie_dist_6"
   ]
  },
  {
   "cell_type": "markdown",
   "metadata": {},
   "source": [
    "pie_dist_6.plot.pie()"
   ]
  },
  {
   "cell_type": "code",
   "execution_count": 211,
   "metadata": {},
   "outputs": [
    {
     "data": {
      "text/plain": [
       "user_country\n",
       "France            389647037\n",
       "Germany           572116290\n",
       "Italy             635238011\n",
       "Spain             688934089\n",
       "United Kingdom    495725070\n",
       "Name: searches, dtype: int64"
      ]
     },
     "execution_count": 211,
     "metadata": {},
     "output_type": "execute_result"
    }
   ],
   "source": [
    "pie_dist_7=df_searches.groupby(df_searches['user_country']).sum()['searches'] #Breakdown of searches per country\n",
    "pie_dist_7"
   ]
  },
  {
   "cell_type": "code",
   "execution_count": 212,
   "metadata": {},
   "outputs": [
    {
     "data": {
      "text/plain": [
       "<matplotlib.axes._subplots.AxesSubplot at 0x27b9907e470>"
      ]
     },
     "execution_count": 212,
     "metadata": {},
     "output_type": "execute_result"
    },
    {
     "data": {
      "image/png": "[encoded data removed]",
      "text/plain": [
       "<Figure size 432x288 with 1 Axes>"
      ]
     },
     "metadata": {},
     "output_type": "display_data"
    }
   ],
   "source": [
    "pie_dist_7.plot.pie()"
   ]
  },
  {
   "cell_type": "markdown",
   "metadata": {},
   "source": [
    "### PROVIDERS-EXPLORATION"
   ]
  },
  {
   "cell_type": "code",
   "execution_count": 213,
   "metadata": {},
   "outputs": [],
   "source": [
    "df_providers = pd.read_sql_query(\"SELECT * FROM providers \", conn)"
   ]
  },
  {
   "cell_type": "code",
   "execution_count": 214,
   "metadata": {},
   "outputs": [
    {
     "name": "stdout",
     "output_type": "stream",
     "text": [
      "<class 'pandas.core.frame.DataFrame'>\n",
      "RangeIndex: 16 entries, 0 to 15\n",
      "Data columns (total 2 columns):\n",
      "provider_id    16 non-null int64\n",
      "travel_mode    16 non-null object\n",
      "dtypes: int64(1), object(1)\n",
      "memory usage: 336.0+ bytes\n"
     ]
    }
   ],
   "source": [
    "df_providers.info()"
   ]
  },
  {
   "cell_type": "code",
   "execution_count": 242,
   "metadata": {},
   "outputs": [
    {
     "data": {
      "text/html": [
       "<div>\n",
       "<style scoped>\n",
       "    .dataframe tbody tr th:only-of-type {\n",
       "        vertical-align: middle;\n",
       "    }\n",
       "\n",
       "    .dataframe tbody tr th {\n",
       "        vertical-align: top;\n",
       "    }\n",
       "\n",
       "    .dataframe thead th {\n",
       "        text-align: right;\n",
       "    }\n",
       "</style>\n",
       "<table border=\"1\" class=\"dataframe\">\n",
       "  <thead>\n",
       "    <tr style=\"text-align: right;\">\n",
       "      <th></th>\n",
       "      <th>provider_id</th>\n",
       "      <th>travel_mode</th>\n",
       "    </tr>\n",
       "  </thead>\n",
       "  <tbody>\n",
       "    <tr>\n",
       "      <th>0</th>\n",
       "      <td>15</td>\n",
       "      <td>air</td>\n",
       "    </tr>\n",
       "    <tr>\n",
       "      <th>1</th>\n",
       "      <td>11</td>\n",
       "      <td>train</td>\n",
       "    </tr>\n",
       "    <tr>\n",
       "      <th>2</th>\n",
       "      <td>5</td>\n",
       "      <td>train</td>\n",
       "    </tr>\n",
       "    <tr>\n",
       "      <th>3</th>\n",
       "      <td>7</td>\n",
       "      <td>air</td>\n",
       "    </tr>\n",
       "    <tr>\n",
       "      <th>4</th>\n",
       "      <td>8</td>\n",
       "      <td>air</td>\n",
       "    </tr>\n",
       "    <tr>\n",
       "      <th>5</th>\n",
       "      <td>4</td>\n",
       "      <td>air</td>\n",
       "    </tr>\n",
       "    <tr>\n",
       "      <th>6</th>\n",
       "      <td>6</td>\n",
       "      <td>train</td>\n",
       "    </tr>\n",
       "    <tr>\n",
       "      <th>7</th>\n",
       "      <td>12</td>\n",
       "      <td>bus</td>\n",
       "    </tr>\n",
       "    <tr>\n",
       "      <th>8</th>\n",
       "      <td>3</td>\n",
       "      <td>train</td>\n",
       "    </tr>\n",
       "    <tr>\n",
       "      <th>9</th>\n",
       "      <td>14</td>\n",
       "      <td>train</td>\n",
       "    </tr>\n",
       "    <tr>\n",
       "      <th>10</th>\n",
       "      <td>2</td>\n",
       "      <td>train</td>\n",
       "    </tr>\n",
       "    <tr>\n",
       "      <th>11</th>\n",
       "      <td>10</td>\n",
       "      <td>train</td>\n",
       "    </tr>\n",
       "    <tr>\n",
       "      <th>12</th>\n",
       "      <td>16</td>\n",
       "      <td>train</td>\n",
       "    </tr>\n",
       "    <tr>\n",
       "      <th>13</th>\n",
       "      <td>9</td>\n",
       "      <td>train</td>\n",
       "    </tr>\n",
       "    <tr>\n",
       "      <th>14</th>\n",
       "      <td>1</td>\n",
       "      <td>bus</td>\n",
       "    </tr>\n",
       "    <tr>\n",
       "      <th>15</th>\n",
       "      <td>13</td>\n",
       "      <td>train</td>\n",
       "    </tr>\n",
       "  </tbody>\n",
       "</table>\n",
       "</div>"
      ],
      "text/plain": [
       "    provider_id travel_mode\n",
       "0            15         air\n",
       "1            11       train\n",
       "2             5       train\n",
       "3             7         air\n",
       "4             8         air\n",
       "5             4         air\n",
       "6             6       train\n",
       "7            12         bus\n",
       "8             3       train\n",
       "9            14       train\n",
       "10            2       train\n",
       "11           10       train\n",
       "12           16       train\n",
       "13            9       train\n",
       "14            1         bus\n",
       "15           13       train"
      ]
     },
     "execution_count": 242,
     "metadata": {},
     "output_type": "execute_result"
    }
   ],
   "source": [
    "df_providers"
   ]
  },
  {
   "cell_type": "code",
   "execution_count": 218,
   "metadata": {},
   "outputs": [
    {
     "data": {
      "text/html": [
       "<div>\n",
       "<style scoped>\n",
       "    .dataframe tbody tr th:only-of-type {\n",
       "        vertical-align: middle;\n",
       "    }\n",
       "\n",
       "    .dataframe tbody tr th {\n",
       "        vertical-align: top;\n",
       "    }\n",
       "\n",
       "    .dataframe thead th {\n",
       "        text-align: right;\n",
       "    }\n",
       "</style>\n",
       "<table border=\"1\" class=\"dataframe\">\n",
       "  <thead>\n",
       "    <tr style=\"text-align: right;\">\n",
       "      <th></th>\n",
       "      <th>provider_id</th>\n",
       "    </tr>\n",
       "    <tr>\n",
       "      <th>travel_mode</th>\n",
       "      <th></th>\n",
       "    </tr>\n",
       "  </thead>\n",
       "  <tbody>\n",
       "    <tr>\n",
       "      <th>air</th>\n",
       "      <td>4</td>\n",
       "    </tr>\n",
       "    <tr>\n",
       "      <th>bus</th>\n",
       "      <td>2</td>\n",
       "    </tr>\n",
       "    <tr>\n",
       "      <th>train</th>\n",
       "      <td>10</td>\n",
       "    </tr>\n",
       "  </tbody>\n",
       "</table>\n",
       "</div>"
      ],
      "text/plain": [
       "             provider_id\n",
       "travel_mode             \n",
       "air                    4\n",
       "bus                    2\n",
       "train                 10"
      ]
     },
     "execution_count": 218,
     "metadata": {},
     "output_type": "execute_result"
    }
   ],
   "source": [
    "pie_dist_8=df_providers.groupby(df_providers['travel_mode']).count() #Breakdown of providers per travel mode\n",
    "pie_dist_8"
   ]
  },
  {
   "cell_type": "code",
   "execution_count": 221,
   "metadata": {},
   "outputs": [
    {
     "data": {
      "text/plain": [
       "<matplotlib.axes._subplots.AxesSubplot at 0x27b97d62f60>"
      ]
     },
     "execution_count": 221,
     "metadata": {},
     "output_type": "execute_result"
    },
    {
     "data": {
      "image/png": "[encoded data removed]",
      "text/plain": [
       "<Figure size 432x288 with 1 Axes>"
      ]
     },
     "metadata": {},
     "output_type": "display_data"
    }
   ],
   "source": [
    "pie_dist_8.plot.pie(y='provider_id')"
   ]
  },
  {
   "cell_type": "markdown",
   "metadata": {},
   "source": [
    "* Most of the Providers are Train providers followed by Air and Bus respectively"
   ]
  },
  {
   "cell_type": "markdown",
   "metadata": {},
   "source": [
    "### Bookings"
   ]
  },
  {
   "cell_type": "code",
   "execution_count": 224,
   "metadata": {},
   "outputs": [
    {
     "name": "stdout",
     "output_type": "stream",
     "text": [
      "<class 'pandas.core.frame.DataFrame'>\n",
      "RangeIndex: 92908 entries, 0 to 92907\n",
      "Data columns (total 7 columns):\n",
      "date_           92908 non-null datetime64[ns]\n",
      "device_type     92908 non-null object\n",
      "domain_         92908 non-null object\n",
      "user_country    92908 non-null object\n",
      "channel         92908 non-null object\n",
      "provider_id     92908 non-null int64\n",
      "bookings        92908 non-null float64\n",
      "dtypes: datetime64[ns](1), float64(1), int64(1), object(4)\n",
      "memory usage: 5.0+ MB\n"
     ]
    }
   ],
   "source": [
    "df_bookings.info()"
   ]
  },
  {
   "cell_type": "code",
   "execution_count": 225,
   "metadata": {},
   "outputs": [
    {
     "data": {
      "text/html": [
       "<div>\n",
       "<style scoped>\n",
       "    .dataframe tbody tr th:only-of-type {\n",
       "        vertical-align: middle;\n",
       "    }\n",
       "\n",
       "    .dataframe tbody tr th {\n",
       "        vertical-align: top;\n",
       "    }\n",
       "\n",
       "    .dataframe thead th {\n",
       "        text-align: right;\n",
       "    }\n",
       "</style>\n",
       "<table border=\"1\" class=\"dataframe\">\n",
       "  <thead>\n",
       "    <tr style=\"text-align: right;\">\n",
       "      <th></th>\n",
       "      <th>date_</th>\n",
       "      <th>device_type</th>\n",
       "      <th>domain_</th>\n",
       "      <th>user_country</th>\n",
       "      <th>channel</th>\n",
       "      <th>provider_id</th>\n",
       "      <th>bookings</th>\n",
       "    </tr>\n",
       "  </thead>\n",
       "  <tbody>\n",
       "    <tr>\n",
       "      <th>0</th>\n",
       "      <td>2016-11-14</td>\n",
       "      <td>Computer</td>\n",
       "      <td>goeuro-com</td>\n",
       "      <td>France</td>\n",
       "      <td>Direct</td>\n",
       "      <td>2</td>\n",
       "      <td>885.0</td>\n",
       "    </tr>\n",
       "    <tr>\n",
       "      <th>1</th>\n",
       "      <td>2016-11-14</td>\n",
       "      <td>Computer</td>\n",
       "      <td>goeuro-com</td>\n",
       "      <td>France</td>\n",
       "      <td>Direct</td>\n",
       "      <td>3</td>\n",
       "      <td>885.0</td>\n",
       "    </tr>\n",
       "    <tr>\n",
       "      <th>2</th>\n",
       "      <td>2016-11-14</td>\n",
       "      <td>Computer</td>\n",
       "      <td>goeuro-com</td>\n",
       "      <td>France</td>\n",
       "      <td>Direct</td>\n",
       "      <td>10</td>\n",
       "      <td>295.0</td>\n",
       "    </tr>\n",
       "    <tr>\n",
       "      <th>3</th>\n",
       "      <td>2016-11-14</td>\n",
       "      <td>Computer</td>\n",
       "      <td>goeuro-com</td>\n",
       "      <td>France</td>\n",
       "      <td>Organic Search</td>\n",
       "      <td>2</td>\n",
       "      <td>2360.0</td>\n",
       "    </tr>\n",
       "    <tr>\n",
       "      <th>4</th>\n",
       "      <td>2016-11-14</td>\n",
       "      <td>Computer</td>\n",
       "      <td>goeuro-com</td>\n",
       "      <td>France</td>\n",
       "      <td>Organic Search</td>\n",
       "      <td>3</td>\n",
       "      <td>590.0</td>\n",
       "    </tr>\n",
       "  </tbody>\n",
       "</table>\n",
       "</div>"
      ],
      "text/plain": [
       "       date_ device_type     domain_ user_country         channel  \\\n",
       "0 2016-11-14    Computer  goeuro-com       France          Direct   \n",
       "1 2016-11-14    Computer  goeuro-com       France          Direct   \n",
       "2 2016-11-14    Computer  goeuro-com       France          Direct   \n",
       "3 2016-11-14    Computer  goeuro-com       France  Organic Search   \n",
       "4 2016-11-14    Computer  goeuro-com       France  Organic Search   \n",
       "\n",
       "   provider_id  bookings  \n",
       "0            2     885.0  \n",
       "1            3     885.0  \n",
       "2           10     295.0  \n",
       "3            2    2360.0  \n",
       "4            3     590.0  "
      ]
     },
     "execution_count": 225,
     "metadata": {},
     "output_type": "execute_result"
    }
   ],
   "source": [
    "df_bookings.head()"
   ]
  },
  {
   "cell_type": "code",
   "execution_count": 261,
   "metadata": {},
   "outputs": [
    {
     "data": {
      "text/plain": [
       "date_\n",
       "1     12811555.0\n",
       "2     16896420.0\n",
       "3     22584315.0\n",
       "4     22619125.0\n",
       "5     25144030.0\n",
       "6     13231635.0\n",
       "11     7467630.0\n",
       "12    13000650.0\n",
       "Name: bookings, dtype: float64"
      ]
     },
     "execution_count": 261,
     "metadata": {},
     "output_type": "execute_result"
    }
   ],
   "source": [
    "df_bookings.groupby(df_bookings['date_'].dt.month).sum()['bookings'] #Total bookings per month"
   ]
  },
  {
   "cell_type": "code",
   "execution_count": 262,
   "metadata": {},
   "outputs": [
    {
     "data": {
      "text/plain": [
       "count    8.000000e+00\n",
       "mean     1.671942e+07\n",
       "std      6.176798e+06\n",
       "min      7.467630e+06\n",
       "25%      1.295338e+07\n",
       "50%      1.506403e+07\n",
       "75%      2.259302e+07\n",
       "max      2.514403e+07\n",
       "Name: bookings, dtype: float64"
      ]
     },
     "execution_count": 262,
     "metadata": {},
     "output_type": "execute_result"
    }
   ],
   "source": [
    "df_bookings.groupby(df_bookings['date_'].dt.month).sum()['bookings'].describe() #Descriptive stats about bookings per month"
   ]
  },
  {
   "cell_type": "code",
   "execution_count": 264,
   "metadata": {},
   "outputs": [
    {
     "data": {
      "text/plain": [
       "date_\n",
       "1     4456270.0\n",
       "2     4741830.0\n",
       "3     4635335.0\n",
       "4     4698760.0\n",
       "5     5109105.0\n",
       "6     4961015.0\n",
       "7     4954820.0\n",
       "8     4789620.0\n",
       "9     4834460.0\n",
       "10    4606130.0\n",
       "11    4460695.0\n",
       "12    4831510.0\n",
       "13    4873400.0\n",
       "14    4038255.0\n",
       "15    4091060.0\n",
       "16    4203455.0\n",
       "17    3970405.0\n",
       "18    3869515.0\n",
       "19    3922025.0\n",
       "20    4098140.0\n",
       "21    4110235.0\n",
       "22    4206995.0\n",
       "23    4258620.0\n",
       "24    4098730.0\n",
       "25    3822610.0\n",
       "26    4188410.0\n",
       "27    4281630.0\n",
       "28    4331780.0\n",
       "29    3872760.0\n",
       "30    3851225.0\n",
       "31    2586560.0\n",
       "Name: bookings, dtype: float64"
      ]
     },
     "execution_count": 264,
     "metadata": {},
     "output_type": "execute_result"
    }
   ],
   "source": [
    "df_bookings.groupby(df_bookings['date_'].dt.day).sum()['bookings'] #Total bookings per day"
   ]
  },
  {
   "cell_type": "code",
   "execution_count": 230,
   "metadata": {},
   "outputs": [
    {
     "data": {
      "text/plain": [
       "count    3.100000e+01\n",
       "mean     4.314689e+06\n",
       "std      4.691827e+05\n",
       "min      2.414870e+06\n",
       "25%      4.195342e+06\n",
       "50%      4.378685e+06\n",
       "75%      4.537985e+06\n",
       "max      5.022670e+06\n",
       "Name: bookings, dtype: float64"
      ]
     },
     "execution_count": 230,
     "metadata": {},
     "output_type": "execute_result"
    }
   ],
   "source": [
    "df_bookings.groupby(df_searches['date_'].dt.day).sum()['bookings'].describe() #Descriptive stats about bookings per day"
   ]
  },
  {
   "cell_type": "code",
   "execution_count": 231,
   "metadata": {},
   "outputs": [
    {
     "data": {
      "text/plain": [
       "channel\n",
       "Affiliate           362260.0\n",
       "Direct            12623050.0\n",
       "Email               369930.0\n",
       "Organic Search    37025745.0\n",
       "Other                33040.0\n",
       "Paid Search       72404800.0\n",
       "Referral           7858505.0\n",
       "Remarketing        2684205.0\n",
       "Social Organic      385565.0\n",
       "Social Paid           8260.0\n",
       "direct                   0.0\n",
       "internal                 0.0\n",
       "organic                  0.0\n",
       "sem                      0.0\n",
       "Name: bookings, dtype: float64"
      ]
     },
     "execution_count": 231,
     "metadata": {},
     "output_type": "execute_result"
    }
   ],
   "source": [
    "pie_dist_9=df_bookings.groupby(df_bookings['channel']).sum()['bookings'] #Breakdown of bookings per channel\n",
    "pie_dist_9"
   ]
  },
  {
   "cell_type": "code",
   "execution_count": 234,
   "metadata": {},
   "outputs": [
    {
     "data": {
      "text/plain": [
       "<matplotlib.axes._subplots.AxesSubplot at 0x27b97a7d780>"
      ]
     },
     "execution_count": 234,
     "metadata": {},
     "output_type": "execute_result"
    },
    {
     "data": {
      "image/png": "[encoded data removed]",
      "text/plain": [
       "<Figure size 648x432 with 1 Axes>"
      ]
     },
     "metadata": {},
     "output_type": "display_data"
    }
   ],
   "source": [
    "pie_dist_9.plot.pie(fontsize=10, figsize=(9, 6), legend=True, labels=None)"
   ]
  },
  {
   "cell_type": "code",
   "execution_count": 251,
   "metadata": {},
   "outputs": [
    {
     "data": {
      "text/plain": [
       "domain_\n",
       "goeuro-co-uk    18826015.0\n",
       "goeuro-com      38534670.0\n",
       "goeuro-de       17378450.0\n",
       "goeuro-es       33319955.0\n",
       "goeuro-fr       10776940.0\n",
       "goeuro-it       14919330.0\n",
       "Name: bookings, dtype: float64"
      ]
     },
     "execution_count": 251,
     "metadata": {},
     "output_type": "execute_result"
    }
   ],
   "source": [
    "pie_dist_11=df_bookings.groupby(df_bookings['domain_']).sum()['bookings'] #Breakdown of bookings per domain\n",
    "pie_dist_11"
   ]
  },
  {
   "cell_type": "code",
   "execution_count": 253,
   "metadata": {},
   "outputs": [
    {
     "data": {
      "text/plain": [
       "<matplotlib.axes._subplots.AxesSubplot at 0x27b9910c668>"
      ]
     },
     "execution_count": 253,
     "metadata": {},
     "output_type": "execute_result"
    },
    {
     "data": {
      "image/png": "[encoded data removed]",
      "text/plain": [
       "<Figure size 432x288 with 1 Axes>"
      ]
     },
     "metadata": {},
     "output_type": "display_data"
    }
   ],
   "source": [
    "pie_dist_11.plot.pie()"
   ]
  },
  {
   "cell_type": "code",
   "execution_count": 255,
   "metadata": {},
   "outputs": [
    {
     "data": {
      "text/plain": [
       "device_type\n",
       "Computer    80034385.0\n",
       "Mobile      46807650.0\n",
       "Tablet       6913325.0\n",
       "Name: bookings, dtype: float64"
      ]
     },
     "execution_count": 255,
     "metadata": {},
     "output_type": "execute_result"
    }
   ],
   "source": [
    "pie_dist_12=df_bookings.groupby(df_bookings['device_type']).sum()['bookings'] #Breakdown of bookings per device\n",
    "pie_dist_12"
   ]
  },
  {
   "cell_type": "code",
   "execution_count": 256,
   "metadata": {},
   "outputs": [
    {
     "data": {
      "text/plain": [
       "<matplotlib.axes._subplots.AxesSubplot at 0x27b97ae3198>"
      ]
     },
     "execution_count": 256,
     "metadata": {},
     "output_type": "execute_result"
    },
    {
     "data": {
      "image/png": "[encoded data removed]",
      "text/plain": [
       "<Figure size 432x288 with 1 Axes>"
      ]
     },
     "metadata": {},
     "output_type": "display_data"
    }
   ],
   "source": [
    "pie_dist_12.plot.pie()"
   ]
  },
  {
   "cell_type": "code",
   "execution_count": 273,
   "metadata": {},
   "outputs": [
    {
     "data": {
      "text/plain": [
       "user_country\n",
       "France            15000160.0\n",
       "Germany           27212865.0\n",
       "Italy             26035520.0\n",
       "Spain             43835230.0\n",
       "United Kingdom    21671585.0\n",
       "Name: bookings, dtype: float64"
      ]
     },
     "execution_count": 273,
     "metadata": {},
     "output_type": "execute_result"
    }
   ],
   "source": [
    "pie_dist_13=df_bookings.groupby(df_bookings['user_country']).sum()['bookings'] #Breakdown of bookings per country\n",
    "pie_dist_13"
   ]
  },
  {
   "cell_type": "code",
   "execution_count": 258,
   "metadata": {},
   "outputs": [
    {
     "data": {
      "text/plain": [
       "<matplotlib.axes._subplots.AxesSubplot at 0x27b98f04470>"
      ]
     },
     "execution_count": 258,
     "metadata": {},
     "output_type": "execute_result"
    },
    {
     "data": {
      "image/png": "[encoded data removed]",
      "text/plain": [
       "<Figure size 432x288 with 1 Axes>"
      ]
     },
     "metadata": {},
     "output_type": "display_data"
    }
   ],
   "source": [
    "pie_dist_13.plot.pie()"
   ]
  },
  {
   "cell_type": "markdown",
   "metadata": {},
   "source": [
    "### KEY FINDINGS ABOUT DIFFERENT PROVIDERS-BOOKINGS"
   ]
  },
  {
   "cell_type": "code",
   "execution_count": 236,
   "metadata": {},
   "outputs": [
    {
     "data": {
      "text/plain": [
       "provider_id\n",
       "1     19088270.0\n",
       "2     28584320.0\n",
       "3      8757665.0\n",
       "4      4370720.0\n",
       "5     10444180.0\n",
       "9         1475.0\n",
       "10    20018700.0\n",
       "11      233640.0\n",
       "12      406215.0\n",
       "13    12569360.0\n",
       "14    26383030.0\n",
       "16     2897785.0\n",
       "Name: bookings, dtype: float64"
      ]
     },
     "execution_count": 236,
     "metadata": {},
     "output_type": "execute_result"
    }
   ],
   "source": [
    "pie_dist_10=df_bookings.groupby(df_bookings['provider_id']).sum()['bookings'] #Breakdown of bookings per provider\n",
    "pie_dist_10"
   ]
  },
  {
   "cell_type": "code",
   "execution_count": 237,
   "metadata": {},
   "outputs": [
    {
     "data": {
      "text/plain": [
       "<matplotlib.axes._subplots.AxesSubplot at 0x27b992953c8>"
      ]
     },
     "execution_count": 237,
     "metadata": {},
     "output_type": "execute_result"
    },
    {
     "data": {
      "image/png": "[encoded data removed]",
      "text/plain": [
       "<Figure size 648x432 with 1 Axes>"
      ]
     },
     "metadata": {},
     "output_type": "display_data"
    }
   ],
   "source": [
    "pie_dist_10.plot.pie(fontsize=10, figsize=(9, 6), legend=True, labels=None)"
   ]
  },
  {
   "cell_type": "code",
   "execution_count": 244,
   "metadata": {},
   "outputs": [
    {
     "data": {
      "text/plain": [
       "4370720.0"
      ]
     },
     "execution_count": 244,
     "metadata": {},
     "output_type": "execute_result"
    }
   ],
   "source": [
    "travel_air= pie_dist_10[4]\n",
    "travel_air"
   ]
  },
  {
   "cell_type": "code",
   "execution_count": 245,
   "metadata": {},
   "outputs": [],
   "source": [
    "travel_bus= pie_dist_10[12]+ pie_dist_10[1]"
   ]
  },
  {
   "cell_type": "code",
   "execution_count": 246,
   "metadata": {},
   "outputs": [
    {
     "data": {
      "text/plain": [
       "19494485.0"
      ]
     },
     "execution_count": 246,
     "metadata": {},
     "output_type": "execute_result"
    }
   ],
   "source": [
    "travel_bus"
   ]
  },
  {
   "cell_type": "code",
   "execution_count": 248,
   "metadata": {},
   "outputs": [
    {
     "data": {
      "text/plain": [
       "109890155.0"
      ]
     },
     "execution_count": 248,
     "metadata": {},
     "output_type": "execute_result"
    }
   ],
   "source": [
    "travel_train"
   ]
  },
  {
   "cell_type": "code",
   "execution_count": 247,
   "metadata": {},
   "outputs": [],
   "source": [
    "travel_train= pie_dist_10[2]+pie_dist_10[10]+pie_dist_10[16]+pie_dist_10[9]+pie_dist_10[13]+pie_dist_10[11]+pie_dist_10[5]+pie_dist_10[3]+pie_dist_10[14] "
   ]
  },
  {
   "cell_type": "markdown",
   "metadata": {},
   "source": [
    "#### KEY FINDINGS\n",
    "* Train leads the way in number of bookings with 109890155.0\n",
    "* Buses is second with 19494485.0\n",
    "* Air is the third with 4370720.0\n",
    "* Providers 6,7,8,15 have no net bookings "
   ]
  },
  {
   "cell_type": "markdown",
   "metadata": {},
   "source": [
    "### MAJOR EVENTS"
   ]
  },
  {
   "cell_type": "code",
   "execution_count": 272,
   "metadata": {},
   "outputs": [
    {
     "data": {
      "text/plain": [
       "date_\n",
       "2017-06-14       1180.0\n",
       "2017-01-28     276415.0\n",
       "2016-12-31     280545.0\n",
       "2016-12-24     309455.0\n",
       "2017-01-21     334530.0\n",
       "2017-01-14     338660.0\n",
       "2016-11-19     341020.0\n",
       "2016-12-10     341315.0\n",
       "2017-01-27     348395.0\n",
       "2016-11-26     356655.0\n",
       "2017-01-07     359605.0\n",
       "2017-01-13     361965.0\n",
       "2016-12-17     372290.0\n",
       "2016-11-20     381140.0\n",
       "2017-01-20     382320.0\n",
       "2017-01-08     383500.0\n",
       "2016-12-25     386155.0\n",
       "2016-12-09     387630.0\n",
       "2016-12-23     387925.0\n",
       "2016-12-03     388220.0\n",
       "2016-12-11     388810.0\n",
       "2017-01-12     392055.0\n",
       "2017-01-29     394120.0\n",
       "2017-01-15     394415.0\n",
       "2016-12-16     394710.0\n",
       "2017-01-06     395005.0\n",
       "2016-11-14     395890.0\n",
       "2017-01-09     397365.0\n",
       "2017-01-17     401200.0\n",
       "2016-12-22     401495.0\n",
       "                ...    \n",
       "2017-06-10     841930.0\n",
       "2017-05-28     844290.0\n",
       "2017-03-28     853435.0\n",
       "2017-03-09     853435.0\n",
       "2017-05-24     856680.0\n",
       "2017-03-29     866120.0\n",
       "2017-06-03     869660.0\n",
       "2017-04-10     873790.0\n",
       "2017-03-13     879690.0\n",
       "2017-04-06     894735.0\n",
       "2017-04-04     914500.0\n",
       "2017-04-03     919515.0\n",
       "2017-06-11     920990.0\n",
       "2017-05-26     935740.0\n",
       "2017-05-23     942820.0\n",
       "2017-04-05     943115.0\n",
       "2017-05-22     945180.0\n",
       "2017-06-04     980580.0\n",
       "2017-06-09     983530.0\n",
       "2017-06-02     990020.0\n",
       "2017-05-30     990315.0\n",
       "2017-05-29     993855.0\n",
       "2017-06-01    1014505.0\n",
       "2017-06-08    1037515.0\n",
       "2017-05-31    1041940.0\n",
       "2017-06-07    1073800.0\n",
       "2017-06-12    1082060.0\n",
       "2017-06-06    1119230.0\n",
       "2017-06-13    1142535.0\n",
       "2017-06-05    1174100.0\n",
       "Name: bookings, Length: 213, dtype: float64"
      ]
     },
     "execution_count": 272,
     "metadata": {},
     "output_type": "execute_result"
    }
   ],
   "source": [
    "df_bookings.groupby(df_bookings['date_'].dt.date).sum()['bookings'].sort_values(ascending=True)"
   ]
  },
  {
   "cell_type": "markdown",
   "metadata": {},
   "source": [
    "##### KEY FINDING \n",
    "* THE lowest amount of bookins were on our last day of recorded bookings, because most likely we don't have round the day data for that day\n",
    "* New Year's eve and Christmas eve were 2 out of our 4 least busiest days which is in line with intuition. \n",
    "* The most amount of bookings were mostly in the month of June 2017 which is indicative of high growth as the product gains more ground as time progresses"
   ]
  },
  {
   "cell_type": "code",
   "execution_count": null,
   "metadata": {},
   "outputs": [],
   "source": []
  }
 ],
 "metadata": {
  "kernelspec": {
   "display_name": "Python 3",
   "language": "python",
   "name": "python3"
  },
  "language_info": {
   "codemirror_mode": {
    "name": "ipython",
    "version": 3
   },
   "file_extension": ".py",
   "mimetype": "text/x-python",
   "name": "python",
   "nbconvert_exporter": "python",
   "pygments_lexer": "ipython3",
   "version": "3.7.0"
  }
 },
 "nbformat": 4,
 "nbformat_minor": 2
}
